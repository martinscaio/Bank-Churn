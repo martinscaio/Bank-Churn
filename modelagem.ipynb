{
 "cells": [
  {
   "cell_type": "markdown",
   "metadata": {},
   "source": [
    "### Modelagem dos dados\n",
    "\n",
    "#### Problema de negócio:\n",
    "\n",
    "##### - Houve aumento no número de clientes que abandonaram o serviço de cartão de crédito do banco. Como reduzir os potenciais Churns ? \n",
    "\n",
    "#### Objetivo:\n",
    "\n",
    "##### - Construir um modelo para identificar os clientes mais propensos a serem Churn no futuro\n"
   ]
  },
  {
   "cell_type": "code",
   "execution_count": 1,
   "metadata": {},
   "outputs": [],
   "source": [
    "import pandas as pd\n",
    "import numpy as np\n",
    "import matplotlib.pyplot as plt\n",
    "import seaborn as sns\n",
    "\n",
    "from sklearn.model_selection import train_test_split, KFold, cross_validate\n",
    "from sklearn.pipeline import Pipeline, make_pipeline\n",
    "from sklearn.preprocessing import OneHotEncoder, StandardScaler\n",
    "from sklearn.compose import ColumnTransformer\n",
    "from sklearn.model_selection import GridSearchCV\n",
    "\n",
    "\n",
    "\n",
    "from sklearn.ensemble import RandomForestClassifier\n",
    "from sklearn.tree import DecisionTreeClassifier\n",
    "from sklearn.linear_model import LogisticRegression\n",
    "from sklearn.tree import ExtraTreeClassifier\n",
    "from xgboost import XGBClassifier\n",
    "\n",
    "\n",
    "from sklearn.feature_selection import f_classif, SelectKBest, mutual_info_classif, SelectFromModel, chi2\n",
    "from sklearn.utils.class_weight import compute_class_weight\n",
    "from sklearn.svm import LinearSVC\n",
    "\n",
    "# Avaliação do modelo\n",
    "from sklearn.metrics import precision_score, recall_score, f1_score, confusion_matrix, accuracy_score, classification_report, roc_curve, roc_auc_score, precision_recall_curve\n",
    "from sklearn.calibration import calibration_curve\n",
    "\n"
   ]
  },
  {
   "cell_type": "markdown",
   "metadata": {},
   "source": [
    "### Importando os dados"
   ]
  },
  {
   "cell_type": "code",
   "execution_count": 2,
   "metadata": {},
   "outputs": [],
   "source": [
    "dados = pd.read_csv('C:\\\\Users\\\\Caio\\\\Desktop\\\\Credit Card Customers\\\\Dados\\\\BankChurners.csv')"
   ]
  },
  {
   "cell_type": "code",
   "execution_count": 3,
   "metadata": {},
   "outputs": [
    {
     "data": {
      "text/html": [
       "<div>\n",
       "<style scoped>\n",
       "    .dataframe tbody tr th:only-of-type {\n",
       "        vertical-align: middle;\n",
       "    }\n",
       "\n",
       "    .dataframe tbody tr th {\n",
       "        vertical-align: top;\n",
       "    }\n",
       "\n",
       "    .dataframe thead th {\n",
       "        text-align: right;\n",
       "    }\n",
       "</style>\n",
       "<table border=\"1\" class=\"dataframe\">\n",
       "  <thead>\n",
       "    <tr style=\"text-align: right;\">\n",
       "      <th></th>\n",
       "      <th>CLIENTNUM</th>\n",
       "      <th>Attrition_Flag</th>\n",
       "      <th>Customer_Age</th>\n",
       "      <th>Gender</th>\n",
       "      <th>Dependent_count</th>\n",
       "      <th>Education_Level</th>\n",
       "      <th>Marital_Status</th>\n",
       "      <th>Income_Category</th>\n",
       "      <th>Card_Category</th>\n",
       "      <th>Months_on_book</th>\n",
       "      <th>...</th>\n",
       "      <th>Credit_Limit</th>\n",
       "      <th>Total_Revolving_Bal</th>\n",
       "      <th>Avg_Open_To_Buy</th>\n",
       "      <th>Total_Amt_Chng_Q4_Q1</th>\n",
       "      <th>Total_Trans_Amt</th>\n",
       "      <th>Total_Trans_Ct</th>\n",
       "      <th>Total_Ct_Chng_Q4_Q1</th>\n",
       "      <th>Avg_Utilization_Ratio</th>\n",
       "      <th>Naive_Bayes_Classifier_Attrition_Flag_Card_Category_Contacts_Count_12_mon_Dependent_count_Education_Level_Months_Inactive_12_mon_1</th>\n",
       "      <th>Naive_Bayes_Classifier_Attrition_Flag_Card_Category_Contacts_Count_12_mon_Dependent_count_Education_Level_Months_Inactive_12_mon_2</th>\n",
       "    </tr>\n",
       "  </thead>\n",
       "  <tbody>\n",
       "    <tr>\n",
       "      <th>0</th>\n",
       "      <td>768805383</td>\n",
       "      <td>Existing Customer</td>\n",
       "      <td>45</td>\n",
       "      <td>M</td>\n",
       "      <td>3</td>\n",
       "      <td>High School</td>\n",
       "      <td>Married</td>\n",
       "      <td>$60K - $80K</td>\n",
       "      <td>Blue</td>\n",
       "      <td>39</td>\n",
       "      <td>...</td>\n",
       "      <td>12691.0</td>\n",
       "      <td>777</td>\n",
       "      <td>11914.0</td>\n",
       "      <td>1.335</td>\n",
       "      <td>1144</td>\n",
       "      <td>42</td>\n",
       "      <td>1.625</td>\n",
       "      <td>0.061</td>\n",
       "      <td>0.000093</td>\n",
       "      <td>0.99991</td>\n",
       "    </tr>\n",
       "    <tr>\n",
       "      <th>1</th>\n",
       "      <td>818770008</td>\n",
       "      <td>Existing Customer</td>\n",
       "      <td>49</td>\n",
       "      <td>F</td>\n",
       "      <td>5</td>\n",
       "      <td>Graduate</td>\n",
       "      <td>Single</td>\n",
       "      <td>Less than $40K</td>\n",
       "      <td>Blue</td>\n",
       "      <td>44</td>\n",
       "      <td>...</td>\n",
       "      <td>8256.0</td>\n",
       "      <td>864</td>\n",
       "      <td>7392.0</td>\n",
       "      <td>1.541</td>\n",
       "      <td>1291</td>\n",
       "      <td>33</td>\n",
       "      <td>3.714</td>\n",
       "      <td>0.105</td>\n",
       "      <td>0.000057</td>\n",
       "      <td>0.99994</td>\n",
       "    </tr>\n",
       "    <tr>\n",
       "      <th>2</th>\n",
       "      <td>713982108</td>\n",
       "      <td>Existing Customer</td>\n",
       "      <td>51</td>\n",
       "      <td>M</td>\n",
       "      <td>3</td>\n",
       "      <td>Graduate</td>\n",
       "      <td>Married</td>\n",
       "      <td>$80K - $120K</td>\n",
       "      <td>Blue</td>\n",
       "      <td>36</td>\n",
       "      <td>...</td>\n",
       "      <td>3418.0</td>\n",
       "      <td>0</td>\n",
       "      <td>3418.0</td>\n",
       "      <td>2.594</td>\n",
       "      <td>1887</td>\n",
       "      <td>20</td>\n",
       "      <td>2.333</td>\n",
       "      <td>0.000</td>\n",
       "      <td>0.000021</td>\n",
       "      <td>0.99998</td>\n",
       "    </tr>\n",
       "    <tr>\n",
       "      <th>3</th>\n",
       "      <td>769911858</td>\n",
       "      <td>Existing Customer</td>\n",
       "      <td>40</td>\n",
       "      <td>F</td>\n",
       "      <td>4</td>\n",
       "      <td>High School</td>\n",
       "      <td>Unknown</td>\n",
       "      <td>Less than $40K</td>\n",
       "      <td>Blue</td>\n",
       "      <td>34</td>\n",
       "      <td>...</td>\n",
       "      <td>3313.0</td>\n",
       "      <td>2517</td>\n",
       "      <td>796.0</td>\n",
       "      <td>1.405</td>\n",
       "      <td>1171</td>\n",
       "      <td>20</td>\n",
       "      <td>2.333</td>\n",
       "      <td>0.760</td>\n",
       "      <td>0.000134</td>\n",
       "      <td>0.99987</td>\n",
       "    </tr>\n",
       "    <tr>\n",
       "      <th>4</th>\n",
       "      <td>709106358</td>\n",
       "      <td>Existing Customer</td>\n",
       "      <td>40</td>\n",
       "      <td>M</td>\n",
       "      <td>3</td>\n",
       "      <td>Uneducated</td>\n",
       "      <td>Married</td>\n",
       "      <td>$60K - $80K</td>\n",
       "      <td>Blue</td>\n",
       "      <td>21</td>\n",
       "      <td>...</td>\n",
       "      <td>4716.0</td>\n",
       "      <td>0</td>\n",
       "      <td>4716.0</td>\n",
       "      <td>2.175</td>\n",
       "      <td>816</td>\n",
       "      <td>28</td>\n",
       "      <td>2.500</td>\n",
       "      <td>0.000</td>\n",
       "      <td>0.000022</td>\n",
       "      <td>0.99998</td>\n",
       "    </tr>\n",
       "  </tbody>\n",
       "</table>\n",
       "<p>5 rows × 23 columns</p>\n",
       "</div>"
      ],
      "text/plain": [
       "   CLIENTNUM     Attrition_Flag  Customer_Age Gender  Dependent_count  \\\n",
       "0  768805383  Existing Customer            45      M                3   \n",
       "1  818770008  Existing Customer            49      F                5   \n",
       "2  713982108  Existing Customer            51      M                3   \n",
       "3  769911858  Existing Customer            40      F                4   \n",
       "4  709106358  Existing Customer            40      M                3   \n",
       "\n",
       "  Education_Level Marital_Status Income_Category Card_Category  \\\n",
       "0     High School        Married     $60K - $80K          Blue   \n",
       "1        Graduate         Single  Less than $40K          Blue   \n",
       "2        Graduate        Married    $80K - $120K          Blue   \n",
       "3     High School        Unknown  Less than $40K          Blue   \n",
       "4      Uneducated        Married     $60K - $80K          Blue   \n",
       "\n",
       "   Months_on_book  ...  Credit_Limit  Total_Revolving_Bal  Avg_Open_To_Buy  \\\n",
       "0              39  ...       12691.0                  777          11914.0   \n",
       "1              44  ...        8256.0                  864           7392.0   \n",
       "2              36  ...        3418.0                    0           3418.0   \n",
       "3              34  ...        3313.0                 2517            796.0   \n",
       "4              21  ...        4716.0                    0           4716.0   \n",
       "\n",
       "   Total_Amt_Chng_Q4_Q1  Total_Trans_Amt  Total_Trans_Ct  Total_Ct_Chng_Q4_Q1  \\\n",
       "0                 1.335             1144              42                1.625   \n",
       "1                 1.541             1291              33                3.714   \n",
       "2                 2.594             1887              20                2.333   \n",
       "3                 1.405             1171              20                2.333   \n",
       "4                 2.175              816              28                2.500   \n",
       "\n",
       "   Avg_Utilization_Ratio  \\\n",
       "0                  0.061   \n",
       "1                  0.105   \n",
       "2                  0.000   \n",
       "3                  0.760   \n",
       "4                  0.000   \n",
       "\n",
       "   Naive_Bayes_Classifier_Attrition_Flag_Card_Category_Contacts_Count_12_mon_Dependent_count_Education_Level_Months_Inactive_12_mon_1  \\\n",
       "0                                           0.000093                                                                                    \n",
       "1                                           0.000057                                                                                    \n",
       "2                                           0.000021                                                                                    \n",
       "3                                           0.000134                                                                                    \n",
       "4                                           0.000022                                                                                    \n",
       "\n",
       "   Naive_Bayes_Classifier_Attrition_Flag_Card_Category_Contacts_Count_12_mon_Dependent_count_Education_Level_Months_Inactive_12_mon_2  \n",
       "0                                            0.99991                                                                                   \n",
       "1                                            0.99994                                                                                   \n",
       "2                                            0.99998                                                                                   \n",
       "3                                            0.99987                                                                                   \n",
       "4                                            0.99998                                                                                   \n",
       "\n",
       "[5 rows x 23 columns]"
      ]
     },
     "execution_count": 3,
     "metadata": {},
     "output_type": "execute_result"
    }
   ],
   "source": [
    "dados.head()"
   ]
  },
  {
   "cell_type": "code",
   "execution_count": 4,
   "metadata": {},
   "outputs": [
    {
     "data": {
      "text/plain": [
       "Existing Customer    8500\n",
       "Attrited Customer    1627\n",
       "Name: Attrition_Flag, dtype: int64"
      ]
     },
     "execution_count": 4,
     "metadata": {},
     "output_type": "execute_result"
    }
   ],
   "source": [
    "dados['Attrition_Flag'].value_counts()"
   ]
  },
  {
   "cell_type": "code",
   "execution_count": 5,
   "metadata": {},
   "outputs": [],
   "source": [
    "dados['Attrition_Flag'].replace('Existing Customer', 0, inplace=True)\n",
    "dados['Attrition_Flag'].replace('Attrited Customer', 1, inplace=True)\n",
    "\n",
    "\n",
    "features = dados.drop(['Attrition_Flag', 'CLIENTNUM',\n",
    " 'Naive_Bayes_Classifier_Attrition_Flag_Card_Category_Contacts_Count_12_mon_Dependent_count_Education_Level_Months_Inactive_12_mon_1',\n",
    " 'Naive_Bayes_Classifier_Attrition_Flag_Card_Category_Contacts_Count_12_mon_Dependent_count_Education_Level_Months_Inactive_12_mon_2'], axis = 1)\n",
    "\n",
    "target = dados['Attrition_Flag']"
   ]
  },
  {
   "cell_type": "markdown",
   "metadata": {},
   "source": [
    "#### Split treino/teste"
   ]
  },
  {
   "cell_type": "code",
   "execution_count": 6,
   "metadata": {},
   "outputs": [],
   "source": [
    "x_train, x_test, y_train, y_test = train_test_split(features, target, test_size= 0.2,stratify= target, random_state= 101)\n",
    "\n"
   ]
  },
  {
   "cell_type": "code",
   "execution_count": 7,
   "metadata": {},
   "outputs": [
    {
     "name": "stdout",
     "output_type": "stream",
     "text": [
      "(8101, 19)\n",
      "(8101,)\n",
      "(2026, 19)\n",
      "(2026,)\n"
     ]
    }
   ],
   "source": [
    "print(x_train.shape)\n",
    "print(y_train.shape)\n",
    "print(x_test.shape)\n",
    "print(y_test.shape)"
   ]
  },
  {
   "cell_type": "code",
   "execution_count": 6,
   "metadata": {},
   "outputs": [
    {
     "name": "stdout",
     "output_type": "stream",
     "text": [
      "0    0.839279\n",
      "1    0.160721\n",
      "Name: Attrition_Flag, dtype: float64\n",
      "0    0.839585\n",
      "1    0.160415\n",
      "Name: Attrition_Flag, dtype: float64\n"
     ]
    }
   ],
   "source": [
    "# a mesma proporção de churn tanto no treino como no teste\n",
    "\n",
    "\n",
    "print(y_train.value_counts(1))\n",
    "\n",
    "print(y_test.value_counts(1))"
   ]
  },
  {
   "cell_type": "markdown",
   "metadata": {},
   "source": [
    "#### Pre Processing"
   ]
  },
  {
   "cell_type": "code",
   "execution_count": 7,
   "metadata": {},
   "outputs": [],
   "source": [
    "# separando as variáveis categóricas das numéricas\n",
    "\n",
    "col_categorico = [i for i in x_train.columns if x_train[i].dtype.name == 'object']\n",
    "\n",
    "col_numerica = [i for i in x_train.columns if i not in col_categorico]"
   ]
  },
  {
   "cell_type": "markdown",
   "metadata": {},
   "source": [
    "##### Classes desbalanceadas e por isso vamos estimar o peso das classes utilizando compute_class_weight"
   ]
  },
  {
   "cell_type": "code",
   "execution_count": 8,
   "metadata": {},
   "outputs": [
    {
     "data": {
      "text/plain": [
       "{0: 0.5957493749080747, 1: 3.1109831029185866}"
      ]
     },
     "execution_count": 8,
     "metadata": {},
     "output_type": "execute_result"
    }
   ],
   "source": [
    "class_weights = compute_class_weight('balanced', classes = np.unique(y_train), y = y_train)\n",
    "\n",
    "dict(zip(np.unique(y_train), class_weights))"
   ]
  },
  {
   "cell_type": "markdown",
   "metadata": {},
   "source": [
    "### Pipelines"
   ]
  },
  {
   "cell_type": "markdown",
   "metadata": {},
   "source": [
    "##### Vamos testar vários modelos. Por isso irei criar um pipeline para cada \"algoritmo\" a ser testado"
   ]
  },
  {
   "cell_type": "code",
   "execution_count": 9,
   "metadata": {},
   "outputs": [],
   "source": [
    " \n",
    "# Transformações OneHotEncoder nas variáveis categóricas\n",
    "\n",
    "\n",
    "categorico = ColumnTransformer([\n",
    "    ('encoder', OneHotEncoder(handle_unknown= 'ignore'), col_categorico),\n",
    "], remainder = 'passthrough')\n",
    "\n",
    "\n",
    "# Pipeline XGBoost\n",
    "\n",
    "pipeline_xgb = Pipeline([\n",
    "    ('cat', categorico),\n",
    "    ('feature_selection', SelectKBest(score_func=mutual_info_classif)),\n",
    "    ('XGBoost', XGBClassifier(class_weights = {0:class_weights[0], 1:class_weights[1]}, random_state = 42))\n",
    "])\n",
    "\n",
    "\n",
    "# Pipeline Random Forest\n",
    "\n",
    "pipeline_rf = Pipeline([\n",
    "    ('cat', categorico),\n",
    "    ('feature_selection', SelectKBest(score_func=mutual_info_classif)),# feature selection\n",
    "    ('randomForest',RandomForestClassifier(class_weight = {0:class_weights[0], 1:class_weights[1]},random_state = 42))])\n",
    "\n",
    "\n",
    "# Pipeline Decision Tree\n",
    "\n",
    "pipeline_tree = Pipeline([\n",
    "    ('cat',categorico),\n",
    "    ('feature_selection', SelectKBest(score_func=mutual_info_classif)),\n",
    "    ('tree',DecisionTreeClassifier(class_weight= {0:class_weights[0], 1:class_weights[1]}, random_state=42))])\n",
    "\n",
    "\n",
    "\n",
    "# Pipeline Logistic Regression\n",
    "\n",
    "\n",
    "# pre processamento aplicado aos dados de logistic regression. Nesse caso aplicamos normalização\n",
    "pre_processamento = ColumnTransformer([\n",
    "    ('encoder', OneHotEncoder(handle_unknown='ignore', sparse=False), col_categorico),\n",
    "    ('scaler', StandardScaler(), col_numerica)\n",
    "])\n",
    "\n",
    "\n",
    "pipeline_log_reg = Pipeline([\n",
    "    ('preprocessamento',pre_processamento),\n",
    "    ('feature_selection', SelectKBest(score_func=mutual_info_classif)),\n",
    "    ('logReg',LogisticRegression(class_weight={0:class_weights[0], 1:class_weights[1]}, random_state=42))])\n",
    "\n",
    "\n"
   ]
  },
  {
   "cell_type": "code",
   "execution_count": 10,
   "metadata": {},
   "outputs": [
    {
     "name": "stderr",
     "output_type": "stream",
     "text": [
      "c:\\Users\\Caio\\anaconda3\\lib\\site-packages\\xgboost\\core.py:160: UserWarning: [10:51:21] WARNING: C:\\buildkite-agent\\builds\\buildkite-windows-cpu-autoscaling-group-i-0cec3277c4d9d0165-1\\xgboost\\xgboost-ci-windows\\src\\learner.cc:742: \n",
      "Parameters: { \"class_weights\" } are not used.\n",
      "\n",
      "  warnings.warn(smsg, UserWarning)\n"
     ]
    }
   ],
   "source": [
    "# Treinando os três modelos ao mesmo tempo\n",
    "\n",
    "algoritmos = [pipeline_xgb,pipeline_rf, pipeline_log_reg, pipeline_tree]\n",
    "\n",
    "\n",
    "for modelo in algoritmos:\n",
    "    modelo.fit(x_train, y_train)"
   ]
  },
  {
   "cell_type": "markdown",
   "metadata": {},
   "source": [
    "### Cross Validation"
   ]
  },
  {
   "cell_type": "code",
   "execution_count": 11,
   "metadata": {},
   "outputs": [],
   "source": [
    "# Cross Validation com 5 folds\n",
    "\n",
    "val_cruzada = KFold(n_splits = 5, shuffle = True, random_state = 53)"
   ]
  },
  {
   "cell_type": "code",
   "execution_count": 12,
   "metadata": {},
   "outputs": [
    {
     "name": "stderr",
     "output_type": "stream",
     "text": [
      "c:\\Users\\Caio\\anaconda3\\lib\\site-packages\\xgboost\\core.py:160: UserWarning: [10:51:34] WARNING: C:\\buildkite-agent\\builds\\buildkite-windows-cpu-autoscaling-group-i-0cec3277c4d9d0165-1\\xgboost\\xgboost-ci-windows\\src\\learner.cc:742: \n",
      "Parameters: { \"class_weights\" } are not used.\n",
      "\n",
      "  warnings.warn(smsg, UserWarning)\n",
      "c:\\Users\\Caio\\anaconda3\\lib\\site-packages\\xgboost\\core.py:160: UserWarning: [10:51:36] WARNING: C:\\buildkite-agent\\builds\\buildkite-windows-cpu-autoscaling-group-i-0cec3277c4d9d0165-1\\xgboost\\xgboost-ci-windows\\src\\learner.cc:742: \n",
      "Parameters: { \"class_weights\" } are not used.\n",
      "\n",
      "  warnings.warn(smsg, UserWarning)\n",
      "c:\\Users\\Caio\\anaconda3\\lib\\site-packages\\xgboost\\core.py:160: UserWarning: [10:51:38] WARNING: C:\\buildkite-agent\\builds\\buildkite-windows-cpu-autoscaling-group-i-0cec3277c4d9d0165-1\\xgboost\\xgboost-ci-windows\\src\\learner.cc:742: \n",
      "Parameters: { \"class_weights\" } are not used.\n",
      "\n",
      "  warnings.warn(smsg, UserWarning)\n",
      "c:\\Users\\Caio\\anaconda3\\lib\\site-packages\\xgboost\\core.py:160: UserWarning: [10:51:39] WARNING: C:\\buildkite-agent\\builds\\buildkite-windows-cpu-autoscaling-group-i-0cec3277c4d9d0165-1\\xgboost\\xgboost-ci-windows\\src\\learner.cc:742: \n",
      "Parameters: { \"class_weights\" } are not used.\n",
      "\n",
      "  warnings.warn(smsg, UserWarning)\n",
      "c:\\Users\\Caio\\anaconda3\\lib\\site-packages\\xgboost\\core.py:160: UserWarning: [10:51:40] WARNING: C:\\buildkite-agent\\builds\\buildkite-windows-cpu-autoscaling-group-i-0cec3277c4d9d0165-1\\xgboost\\xgboost-ci-windows\\src\\learner.cc:742: \n",
      "Parameters: { \"class_weights\" } are not used.\n",
      "\n",
      "  warnings.warn(smsg, UserWarning)\n"
     ]
    }
   ],
   "source": [
    "# métricas a ser computada com o cross validation\n",
    "\n",
    "metrics = ['recall', 'precision','accuracy', 'f1']\n",
    "\n",
    "\n",
    "# Cross Validate com XGBoost\n",
    "\n",
    "\n",
    "cross_validatexgb = cross_validate(pipeline_xgb, x_train, y_train, cv = val_cruzada, scoring = metrics)\n",
    "\n",
    "\n",
    "recall_xgb = cross_validatexgb['test_recall'].mean()\n",
    "precision_xgb = cross_validatexgb['test_precision'].mean()\n",
    "accuracy_xgb = cross_validatexgb['test_accuracy'].mean()\n",
    "f1_xgb = cross_validatexgb['test_f1'].mean()\n",
    "\n",
    "\n",
    "\n",
    "# Cross Validate com Random Forest\n",
    "\n",
    "\n",
    "cross_validaterf = cross_validate(pipeline_rf, x_train, y_train, cv = val_cruzada, scoring = metrics)\n",
    "\n",
    "\n",
    "recall_rf = cross_validaterf['test_recall'].mean()\n",
    "precision_rf = cross_validaterf['test_precision'].mean()\n",
    "accuracy_rf = cross_validaterf['test_accuracy'].mean()\n",
    "f1_rf = cross_validaterf['test_f1'].mean()\n",
    "\n",
    "\n",
    "\n",
    "# Cross Validate com Logistic Regression\n",
    "\n",
    "cross_validate_logReg = cross_validate(pipeline_log_reg, x_train, y_train, cv = val_cruzada, scoring = metrics)\n",
    "\n",
    "recall_logReg = cross_validate_logReg['test_recall'].mean()\n",
    "precision_logReg = cross_validate_logReg['test_precision'].mean()\n",
    "accuracy_logReg = cross_validate_logReg['test_accuracy'].mean()\n",
    "f1_logReg = cross_validate_logReg['test_f1'].mean()\n",
    "\n",
    "\n",
    "\n",
    "# Cross Validate com Decision Tree\n",
    "\n",
    "\n",
    "cross_validate_tree = cross_validate(pipeline_tree, x_train, y_train, cv = val_cruzada, scoring = metrics)\n",
    "\n",
    "\n",
    "recall_tree = cross_validate_tree['test_recall'].mean()\n",
    "precision_tree = cross_validate_tree['test_precision'].mean()\n",
    "accuracy_tree = cross_validate_tree['test_accuracy'].mean()\n",
    "f1_tree = cross_validate_tree['test_f1'].mean()"
   ]
  },
  {
   "cell_type": "markdown",
   "metadata": {},
   "source": [
    "### Comparativo entre os modelos"
   ]
  },
  {
   "cell_type": "code",
   "execution_count": 13,
   "metadata": {},
   "outputs": [
    {
     "name": "stdout",
     "output_type": "stream",
     "text": [
      "Comparativo entre os Modelos:\n",
      "_____________________________\n",
      "\n",
      "\n",
      "XGBoost Metrics Cross Validation:\n",
      " Accuracy Mean: 0.9635843596012215\n",
      " Precision Mean: 0.9019058891994604\n",
      " Recall Mean: 0.8689246847789274\n",
      " F1 Mean: 0.885041203946533\n",
      "\n",
      "\n",
      "Random Forest Metrics Cross Validation:\n",
      " Accuracy Mean: 0.9540794814967135\n",
      " Precision Mean: 0.9044632408061062\n",
      " Recall Mean: 0.8006629474033671\n",
      " F1 Mean: 0.8492899163267346\n",
      "\n",
      "\n",
      "Logistic Regression Metrics Cross Validation:\n",
      " Accuracy Mean: 0.8363154888386226\n",
      " Precision Mean: 0.4948968870416219\n",
      " Recall  Mean: 0.8503231183101164\n",
      " F1 Mean: 0.6255430711772719\n",
      "\n",
      "\n",
      "Decision Tree Metrics Cross Validation:\n",
      " Accuracy Mean: 0.9271689476850901\n",
      " Precision Mean: 0.7859923980370735\n",
      " Recall Mean: 0.7537853070996319\n",
      " F1 Mean: 0.769437320119437\n"
     ]
    }
   ],
   "source": [
    "print(\"Comparativo entre os Modelos:\")\n",
    "print(\"_____________________________\")\n",
    "\n",
    "print(\"\\n\")\n",
    "\n",
    "\n",
    "print(\"XGBoost Metrics Cross Validation:\")\n",
    "print(\" Accuracy Mean: {}\".format(accuracy_xgb))\n",
    "print(\" Precision Mean: {}\".format(precision_xgb))\n",
    "print(\" Recall Mean: {}\".format(recall_xgb))\n",
    "print(\" F1 Mean: {}\".format(f1_xgb))\n",
    "\n",
    "\n",
    "\n",
    "\n",
    "print(\"\\n\")\n",
    "\n",
    "print(\"Random Forest Metrics Cross Validation:\")\n",
    "print(\" Accuracy Mean: {}\".format(accuracy_rf))\n",
    "print(\" Precision Mean: {}\".format(precision_rf))\n",
    "print(\" Recall Mean: {}\".format(recall_rf))\n",
    "print(\" F1 Mean: {}\".format(f1_rf))\n",
    "\n",
    "\n",
    "print(\"\\n\")\n",
    "\n",
    "print(\"Logistic Regression Metrics Cross Validation:\")\n",
    "\n",
    "\n",
    "print(\" Accuracy Mean: {}\".format(accuracy_logReg))\n",
    "print(\" Precision Mean: {}\".format(precision_logReg))\n",
    "print(\" Recall  Mean: {}\".format(recall_logReg))\n",
    "print(\" F1 Mean: {}\".format(f1_logReg))\n",
    "\n",
    "print(\"\\n\")\n",
    "\n",
    "print(\"Decision Tree Metrics Cross Validation:\")\n",
    "\n",
    "\n",
    "print(\" Accuracy Mean: {}\".format(accuracy_tree))\n",
    "print(\" Precision Mean: {}\".format(precision_tree))\n",
    "print(\" Recall Mean: {}\".format(recall_tree))\n",
    "print(\" F1 Mean: {}\".format(f1_tree))"
   ]
  },
  {
   "cell_type": "markdown",
   "metadata": {},
   "source": [
    "### Iremos selecionar o Random Forest pois aparenta ser o mais promissor para esse problema específico"
   ]
  },
  {
   "cell_type": "markdown",
   "metadata": {},
   "source": [
    "#### Tunando somente um hiperparametro e selecionando as melhores features com base no teste F"
   ]
  },
  {
   "cell_type": "code",
   "execution_count": 14,
   "metadata": {},
   "outputs": [],
   "source": [
    "# alternativo\n",
    "\n",
    "params = {'feature_selection__k': [10,11,12],\n",
    "          'randomForest__n_estimators': [10, 20, 30],\n",
    "          'randomForest__min_samples_split': [4,6,10],  # usar 2 (DOIS) __\n",
    "          'randomForest__max_depth': [10,20,30]}\n",
    "          \n",
    "\n",
    "rf_grid = GridSearchCV(estimator= pipeline_rf, \n",
    "                      param_grid= params, \n",
    "                      scoring = 'accuracy',\n",
    "                      cv = 3,\n",
    "                      n_jobs= -1)"
   ]
  },
  {
   "cell_type": "code",
   "execution_count": 15,
   "metadata": {},
   "outputs": [
    {
     "data": {
      "text/html": [
       "<style>#sk-container-id-1 {color: black;background-color: white;}#sk-container-id-1 pre{padding: 0;}#sk-container-id-1 div.sk-toggleable {background-color: white;}#sk-container-id-1 label.sk-toggleable__label {cursor: pointer;display: block;width: 100%;margin-bottom: 0;padding: 0.3em;box-sizing: border-box;text-align: center;}#sk-container-id-1 label.sk-toggleable__label-arrow:before {content: \"▸\";float: left;margin-right: 0.25em;color: #696969;}#sk-container-id-1 label.sk-toggleable__label-arrow:hover:before {color: black;}#sk-container-id-1 div.sk-estimator:hover label.sk-toggleable__label-arrow:before {color: black;}#sk-container-id-1 div.sk-toggleable__content {max-height: 0;max-width: 0;overflow: hidden;text-align: left;background-color: #f0f8ff;}#sk-container-id-1 div.sk-toggleable__content pre {margin: 0.2em;color: black;border-radius: 0.25em;background-color: #f0f8ff;}#sk-container-id-1 input.sk-toggleable__control:checked~div.sk-toggleable__content {max-height: 200px;max-width: 100%;overflow: auto;}#sk-container-id-1 input.sk-toggleable__control:checked~label.sk-toggleable__label-arrow:before {content: \"▾\";}#sk-container-id-1 div.sk-estimator input.sk-toggleable__control:checked~label.sk-toggleable__label {background-color: #d4ebff;}#sk-container-id-1 div.sk-label input.sk-toggleable__control:checked~label.sk-toggleable__label {background-color: #d4ebff;}#sk-container-id-1 input.sk-hidden--visually {border: 0;clip: rect(1px 1px 1px 1px);clip: rect(1px, 1px, 1px, 1px);height: 1px;margin: -1px;overflow: hidden;padding: 0;position: absolute;width: 1px;}#sk-container-id-1 div.sk-estimator {font-family: monospace;background-color: #f0f8ff;border: 1px dotted black;border-radius: 0.25em;box-sizing: border-box;margin-bottom: 0.5em;}#sk-container-id-1 div.sk-estimator:hover {background-color: #d4ebff;}#sk-container-id-1 div.sk-parallel-item::after {content: \"\";width: 100%;border-bottom: 1px solid gray;flex-grow: 1;}#sk-container-id-1 div.sk-label:hover label.sk-toggleable__label {background-color: #d4ebff;}#sk-container-id-1 div.sk-serial::before {content: \"\";position: absolute;border-left: 1px solid gray;box-sizing: border-box;top: 0;bottom: 0;left: 50%;z-index: 0;}#sk-container-id-1 div.sk-serial {display: flex;flex-direction: column;align-items: center;background-color: white;padding-right: 0.2em;padding-left: 0.2em;position: relative;}#sk-container-id-1 div.sk-item {position: relative;z-index: 1;}#sk-container-id-1 div.sk-parallel {display: flex;align-items: stretch;justify-content: center;background-color: white;position: relative;}#sk-container-id-1 div.sk-item::before, #sk-container-id-1 div.sk-parallel-item::before {content: \"\";position: absolute;border-left: 1px solid gray;box-sizing: border-box;top: 0;bottom: 0;left: 50%;z-index: -1;}#sk-container-id-1 div.sk-parallel-item {display: flex;flex-direction: column;z-index: 1;position: relative;background-color: white;}#sk-container-id-1 div.sk-parallel-item:first-child::after {align-self: flex-end;width: 50%;}#sk-container-id-1 div.sk-parallel-item:last-child::after {align-self: flex-start;width: 50%;}#sk-container-id-1 div.sk-parallel-item:only-child::after {width: 0;}#sk-container-id-1 div.sk-dashed-wrapped {border: 1px dashed gray;margin: 0 0.4em 0.5em 0.4em;box-sizing: border-box;padding-bottom: 0.4em;background-color: white;}#sk-container-id-1 div.sk-label label {font-family: monospace;font-weight: bold;display: inline-block;line-height: 1.2em;}#sk-container-id-1 div.sk-label-container {text-align: center;}#sk-container-id-1 div.sk-container {/* jupyter's `normalize.less` sets `[hidden] { display: none; }` but bootstrap.min.css set `[hidden] { display: none !important; }` so we also need the `!important` here to be able to override the default hidden behavior on the sphinx rendered scikit-learn.org. See: https://github.com/scikit-learn/scikit-learn/issues/21755 */display: inline-block !important;position: relative;}#sk-container-id-1 div.sk-text-repr-fallback {display: none;}</style><div id=\"sk-container-id-1\" class=\"sk-top-container\"><div class=\"sk-text-repr-fallback\"><pre>GridSearchCV(cv=3,\n",
       "             estimator=Pipeline(steps=[(&#x27;cat&#x27;,\n",
       "                                        ColumnTransformer(remainder=&#x27;passthrough&#x27;,\n",
       "                                                          transformers=[(&#x27;encoder&#x27;,\n",
       "                                                                         OneHotEncoder(handle_unknown=&#x27;ignore&#x27;),\n",
       "                                                                         [&#x27;Gender&#x27;,\n",
       "                                                                          &#x27;Education_Level&#x27;,\n",
       "                                                                          &#x27;Marital_Status&#x27;,\n",
       "                                                                          &#x27;Income_Category&#x27;,\n",
       "                                                                          &#x27;Card_Category&#x27;])])),\n",
       "                                       (&#x27;feature_selection&#x27;,\n",
       "                                        SelectKBest(score_func=&lt;function mutual_info_classif at 0x000002448B5C1820&gt;)),\n",
       "                                       (&#x27;randomForest&#x27;,\n",
       "                                        RandomForestClassifier(class_weight={0: 0.5957493749080747,\n",
       "                                                                             1: 3.1109831029185866},\n",
       "                                                               random_state=42))]),\n",
       "             n_jobs=-1,\n",
       "             param_grid={&#x27;feature_selection__k&#x27;: [10, 11, 12],\n",
       "                         &#x27;randomForest__max_depth&#x27;: [10, 20, 30],\n",
       "                         &#x27;randomForest__min_samples_split&#x27;: [4, 6, 10],\n",
       "                         &#x27;randomForest__n_estimators&#x27;: [10, 20, 30]},\n",
       "             scoring=&#x27;accuracy&#x27;)</pre><b>In a Jupyter environment, please rerun this cell to show the HTML representation or trust the notebook. <br />On GitHub, the HTML representation is unable to render, please try loading this page with nbviewer.org.</b></div><div class=\"sk-container\" hidden><div class=\"sk-item sk-dashed-wrapped\"><div class=\"sk-label-container\"><div class=\"sk-label sk-toggleable\"><input class=\"sk-toggleable__control sk-hidden--visually\" id=\"sk-estimator-id-1\" type=\"checkbox\" ><label for=\"sk-estimator-id-1\" class=\"sk-toggleable__label sk-toggleable__label-arrow\">GridSearchCV</label><div class=\"sk-toggleable__content\"><pre>GridSearchCV(cv=3,\n",
       "             estimator=Pipeline(steps=[(&#x27;cat&#x27;,\n",
       "                                        ColumnTransformer(remainder=&#x27;passthrough&#x27;,\n",
       "                                                          transformers=[(&#x27;encoder&#x27;,\n",
       "                                                                         OneHotEncoder(handle_unknown=&#x27;ignore&#x27;),\n",
       "                                                                         [&#x27;Gender&#x27;,\n",
       "                                                                          &#x27;Education_Level&#x27;,\n",
       "                                                                          &#x27;Marital_Status&#x27;,\n",
       "                                                                          &#x27;Income_Category&#x27;,\n",
       "                                                                          &#x27;Card_Category&#x27;])])),\n",
       "                                       (&#x27;feature_selection&#x27;,\n",
       "                                        SelectKBest(score_func=&lt;function mutual_info_classif at 0x000002448B5C1820&gt;)),\n",
       "                                       (&#x27;randomForest&#x27;,\n",
       "                                        RandomForestClassifier(class_weight={0: 0.5957493749080747,\n",
       "                                                                             1: 3.1109831029185866},\n",
       "                                                               random_state=42))]),\n",
       "             n_jobs=-1,\n",
       "             param_grid={&#x27;feature_selection__k&#x27;: [10, 11, 12],\n",
       "                         &#x27;randomForest__max_depth&#x27;: [10, 20, 30],\n",
       "                         &#x27;randomForest__min_samples_split&#x27;: [4, 6, 10],\n",
       "                         &#x27;randomForest__n_estimators&#x27;: [10, 20, 30]},\n",
       "             scoring=&#x27;accuracy&#x27;)</pre></div></div></div><div class=\"sk-parallel\"><div class=\"sk-parallel-item\"><div class=\"sk-item\"><div class=\"sk-label-container\"><div class=\"sk-label sk-toggleable\"><input class=\"sk-toggleable__control sk-hidden--visually\" id=\"sk-estimator-id-2\" type=\"checkbox\" ><label for=\"sk-estimator-id-2\" class=\"sk-toggleable__label sk-toggleable__label-arrow\">estimator: Pipeline</label><div class=\"sk-toggleable__content\"><pre>Pipeline(steps=[(&#x27;cat&#x27;,\n",
       "                 ColumnTransformer(remainder=&#x27;passthrough&#x27;,\n",
       "                                   transformers=[(&#x27;encoder&#x27;,\n",
       "                                                  OneHotEncoder(handle_unknown=&#x27;ignore&#x27;),\n",
       "                                                  [&#x27;Gender&#x27;, &#x27;Education_Level&#x27;,\n",
       "                                                   &#x27;Marital_Status&#x27;,\n",
       "                                                   &#x27;Income_Category&#x27;,\n",
       "                                                   &#x27;Card_Category&#x27;])])),\n",
       "                (&#x27;feature_selection&#x27;,\n",
       "                 SelectKBest(score_func=&lt;function mutual_info_classif at 0x000002448B5C1820&gt;)),\n",
       "                (&#x27;randomForest&#x27;,\n",
       "                 RandomForestClassifier(class_weight={0: 0.5957493749080747,\n",
       "                                                      1: 3.1109831029185866},\n",
       "                                        random_state=42))])</pre></div></div></div><div class=\"sk-serial\"><div class=\"sk-item\"><div class=\"sk-serial\"><div class=\"sk-item sk-dashed-wrapped\"><div class=\"sk-label-container\"><div class=\"sk-label sk-toggleable\"><input class=\"sk-toggleable__control sk-hidden--visually\" id=\"sk-estimator-id-3\" type=\"checkbox\" ><label for=\"sk-estimator-id-3\" class=\"sk-toggleable__label sk-toggleable__label-arrow\">cat: ColumnTransformer</label><div class=\"sk-toggleable__content\"><pre>ColumnTransformer(remainder=&#x27;passthrough&#x27;,\n",
       "                  transformers=[(&#x27;encoder&#x27;,\n",
       "                                 OneHotEncoder(handle_unknown=&#x27;ignore&#x27;),\n",
       "                                 [&#x27;Gender&#x27;, &#x27;Education_Level&#x27;, &#x27;Marital_Status&#x27;,\n",
       "                                  &#x27;Income_Category&#x27;, &#x27;Card_Category&#x27;])])</pre></div></div></div><div class=\"sk-parallel\"><div class=\"sk-parallel-item\"><div class=\"sk-item\"><div class=\"sk-label-container\"><div class=\"sk-label sk-toggleable\"><input class=\"sk-toggleable__control sk-hidden--visually\" id=\"sk-estimator-id-4\" type=\"checkbox\" ><label for=\"sk-estimator-id-4\" class=\"sk-toggleable__label sk-toggleable__label-arrow\">encoder</label><div class=\"sk-toggleable__content\"><pre>[&#x27;Gender&#x27;, &#x27;Education_Level&#x27;, &#x27;Marital_Status&#x27;, &#x27;Income_Category&#x27;, &#x27;Card_Category&#x27;]</pre></div></div></div><div class=\"sk-serial\"><div class=\"sk-item\"><div class=\"sk-estimator sk-toggleable\"><input class=\"sk-toggleable__control sk-hidden--visually\" id=\"sk-estimator-id-5\" type=\"checkbox\" ><label for=\"sk-estimator-id-5\" class=\"sk-toggleable__label sk-toggleable__label-arrow\">OneHotEncoder</label><div class=\"sk-toggleable__content\"><pre>OneHotEncoder(handle_unknown=&#x27;ignore&#x27;)</pre></div></div></div></div></div></div><div class=\"sk-parallel-item\"><div class=\"sk-item\"><div class=\"sk-label-container\"><div class=\"sk-label sk-toggleable\"><input class=\"sk-toggleable__control sk-hidden--visually\" id=\"sk-estimator-id-6\" type=\"checkbox\" ><label for=\"sk-estimator-id-6\" class=\"sk-toggleable__label sk-toggleable__label-arrow\">remainder</label><div class=\"sk-toggleable__content\"><pre>[&#x27;Customer_Age&#x27;, &#x27;Dependent_count&#x27;, &#x27;Months_on_book&#x27;, &#x27;Total_Relationship_Count&#x27;, &#x27;Months_Inactive_12_mon&#x27;, &#x27;Contacts_Count_12_mon&#x27;, &#x27;Credit_Limit&#x27;, &#x27;Total_Revolving_Bal&#x27;, &#x27;Avg_Open_To_Buy&#x27;, &#x27;Total_Amt_Chng_Q4_Q1&#x27;, &#x27;Total_Trans_Amt&#x27;, &#x27;Total_Trans_Ct&#x27;, &#x27;Total_Ct_Chng_Q4_Q1&#x27;, &#x27;Avg_Utilization_Ratio&#x27;]</pre></div></div></div><div class=\"sk-serial\"><div class=\"sk-item\"><div class=\"sk-estimator sk-toggleable\"><input class=\"sk-toggleable__control sk-hidden--visually\" id=\"sk-estimator-id-7\" type=\"checkbox\" ><label for=\"sk-estimator-id-7\" class=\"sk-toggleable__label sk-toggleable__label-arrow\">passthrough</label><div class=\"sk-toggleable__content\"><pre>passthrough</pre></div></div></div></div></div></div></div></div><div class=\"sk-item\"><div class=\"sk-estimator sk-toggleable\"><input class=\"sk-toggleable__control sk-hidden--visually\" id=\"sk-estimator-id-8\" type=\"checkbox\" ><label for=\"sk-estimator-id-8\" class=\"sk-toggleable__label sk-toggleable__label-arrow\">SelectKBest</label><div class=\"sk-toggleable__content\"><pre>SelectKBest(score_func=&lt;function mutual_info_classif at 0x000002448B5C1820&gt;)</pre></div></div></div><div class=\"sk-item\"><div class=\"sk-estimator sk-toggleable\"><input class=\"sk-toggleable__control sk-hidden--visually\" id=\"sk-estimator-id-9\" type=\"checkbox\" ><label for=\"sk-estimator-id-9\" class=\"sk-toggleable__label sk-toggleable__label-arrow\">RandomForestClassifier</label><div class=\"sk-toggleable__content\"><pre>RandomForestClassifier(class_weight={0: 0.5957493749080747,\n",
       "                                     1: 3.1109831029185866},\n",
       "                       random_state=42)</pre></div></div></div></div></div></div></div></div></div></div></div></div>"
      ],
      "text/plain": [
       "GridSearchCV(cv=3,\n",
       "             estimator=Pipeline(steps=[('cat',\n",
       "                                        ColumnTransformer(remainder='passthrough',\n",
       "                                                          transformers=[('encoder',\n",
       "                                                                         OneHotEncoder(handle_unknown='ignore'),\n",
       "                                                                         ['Gender',\n",
       "                                                                          'Education_Level',\n",
       "                                                                          'Marital_Status',\n",
       "                                                                          'Income_Category',\n",
       "                                                                          'Card_Category'])])),\n",
       "                                       ('feature_selection',\n",
       "                                        SelectKBest(score_func=<function mutual_info_classif at 0x000002448B5C1820>)),\n",
       "                                       ('randomForest',\n",
       "                                        RandomForestClassifier(class_weight={0: 0.5957493749080747,\n",
       "                                                                             1: 3.1109831029185866},\n",
       "                                                               random_state=42))]),\n",
       "             n_jobs=-1,\n",
       "             param_grid={'feature_selection__k': [10, 11, 12],\n",
       "                         'randomForest__max_depth': [10, 20, 30],\n",
       "                         'randomForest__min_samples_split': [4, 6, 10],\n",
       "                         'randomForest__n_estimators': [10, 20, 30]},\n",
       "             scoring='accuracy')"
      ]
     },
     "execution_count": 15,
     "metadata": {},
     "output_type": "execute_result"
    }
   ],
   "source": [
    "rf_grid.fit(x_train, y_train)"
   ]
  },
  {
   "cell_type": "code",
   "execution_count": 16,
   "metadata": {},
   "outputs": [
    {
     "name": "stdout",
     "output_type": "stream",
     "text": [
      "0.9881496111591161\n"
     ]
    }
   ],
   "source": [
    "print(rf_grid.score(x_train, y_train))"
   ]
  },
  {
   "cell_type": "code",
   "execution_count": null,
   "metadata": {},
   "outputs": [],
   "source": []
  },
  {
   "cell_type": "code",
   "execution_count": null,
   "metadata": {},
   "outputs": [],
   "source": []
  },
  {
   "cell_type": "markdown",
   "metadata": {},
   "source": [
    "#### Agora que já selecionamos o modelo, tunamos os hiperparametros e avaliamos algumas métricas podemos ir a base de teste"
   ]
  },
  {
   "cell_type": "code",
   "execution_count": 17,
   "metadata": {},
   "outputs": [],
   "source": [
    "y_pred = rf_grid.predict(x_test)"
   ]
  },
  {
   "cell_type": "markdown",
   "metadata": {},
   "source": [
    "#### Métricas do nosso modelo com a base de teste"
   ]
  },
  {
   "cell_type": "code",
   "execution_count": 18,
   "metadata": {},
   "outputs": [
    {
     "name": "stdout",
     "output_type": "stream",
     "text": [
      "Precision Score: 0.8523076923076923\n",
      "Recall Score: 0.8523076923076923\n",
      "F1 Score: 0.8523076923076923\n",
      "Accuracy Score: 0.9526159921026653\n"
     ]
    }
   ],
   "source": [
    "print(\"Precision Score: {}\".format(precision_score(y_test, y_pred)))\n",
    "print(\"Recall Score: {}\".format(recall_score(y_test, y_pred)))\n",
    "print(\"F1 Score: {}\".format(f1_score(y_test, y_pred)))\n",
    "print(\"Accuracy Score: {}\".format(accuracy_score(y_test, y_pred)))\n"
   ]
  },
  {
   "cell_type": "code",
   "execution_count": 19,
   "metadata": {},
   "outputs": [
    {
     "name": "stdout",
     "output_type": "stream",
     "text": [
      "[[1653   48]\n",
      " [  48  277]]\n"
     ]
    }
   ],
   "source": [
    "print(confusion_matrix(y_test,y_pred))"
   ]
  },
  {
   "cell_type": "code",
   "execution_count": 20,
   "metadata": {},
   "outputs": [
    {
     "name": "stdout",
     "output_type": "stream",
     "text": [
      "              precision    recall  f1-score   support\n",
      "\n",
      "           0       0.97      0.97      0.97      1701\n",
      "           1       0.85      0.85      0.85       325\n",
      "\n",
      "    accuracy                           0.95      2026\n",
      "   macro avg       0.91      0.91      0.91      2026\n",
      "weighted avg       0.95      0.95      0.95      2026\n",
      "\n"
     ]
    }
   ],
   "source": [
    "print(classification_report(y_test, y_pred))"
   ]
  },
  {
   "cell_type": "markdown",
   "metadata": {},
   "source": [
    "#### Curva ROC"
   ]
  },
  {
   "cell_type": "code",
   "execution_count": 21,
   "metadata": {},
   "outputs": [],
   "source": [
    "def plot_roc_curve(fper, tper):\n",
    "    plt.plot(fper, tper, color='red', label='ROC')\n",
    "    plt.plot([0, 1], [0, 1], color='green', linestyle='--')\n",
    "    plt.xlabel('False Positive Rate')\n",
    "    plt.ylabel('True Positive Rate')\n",
    "    plt.title('Receiver Operating Characteristic Curve')\n",
    "    plt.legend()\n",
    "    plt.show()"
   ]
  },
  {
   "cell_type": "code",
   "execution_count": 22,
   "metadata": {},
   "outputs": [
    {
     "data": {
      "image/png": "[encoded data removed]",
      "text/plain": [
       "<Figure size 432x288 with 1 Axes>"
      ]
     },
     "metadata": {
      "needs_background": "light"
     },
     "output_type": "display_data"
    }
   ],
   "source": [
    "prob = rf_grid.predict_proba(x_test)\n",
    "\n",
    "prob = prob[:, 1]\n",
    "fper, tper, thresholds = roc_curve(y_test, prob)\n",
    "plot_roc_curve(fper, tper)"
   ]
  },
  {
   "cell_type": "code",
   "execution_count": 23,
   "metadata": {},
   "outputs": [
    {
     "name": "stdout",
     "output_type": "stream",
     "text": [
      "ROC AUC SCORE: 0.9831357120246009\n"
     ]
    }
   ],
   "source": [
    "print(\"ROC AUC SCORE: {}\".format(roc_auc_score(y_test, prob)))"
   ]
  },
  {
   "cell_type": "code",
   "execution_count": 24,
   "metadata": {},
   "outputs": [],
   "source": [
    "y_scores = rf_grid.predict_proba(x_test)[:,1]\n",
    "\n",
    "precision, recall, thresholds = precision_recall_curve(y_test, y_scores)"
   ]
  },
  {
   "cell_type": "code",
   "execution_count": 25,
   "metadata": {},
   "outputs": [
    {
     "data": {
      "image/png": "[encoded data removed]",
      "text/plain": [
       "<Figure size 864x720 with 1 Axes>"
      ]
     },
     "metadata": {
      "needs_background": "light"
     },
     "output_type": "display_data"
    }
   ],
   "source": [
    "plt.figure(figsize=(12, 10))\n",
    "plt.plot(thresholds, precision[:-1], color='Blue', label='Precision')\n",
    "plt.plot(thresholds, recall[:-1], color='Green', label='Recall')\n",
    "plt.axvline(x=0.5, color='red', linestyle='--', label='Threshold = 0.5')\n",
    "plt.xlabel('Thresholds')\n",
    "plt.ylabel('Score')\n",
    "plt.title('Metrics vs. Thresholds')\n",
    "plt.legend()\n",
    "plt.grid(True)\n",
    "plt.show()"
   ]
  },
  {
   "cell_type": "code",
   "execution_count": 26,
   "metadata": {},
   "outputs": [],
   "source": [
    "probabilidades = rf_grid.predict_proba(x_test)\n",
    "\n",
    "classe_predita = (probabilidades[:, 1] >= 0.4).astype(int)"
   ]
  },
  {
   "cell_type": "code",
   "execution_count": 27,
   "metadata": {},
   "outputs": [
    {
     "name": "stdout",
     "output_type": "stream",
     "text": [
      "              precision    recall  f1-score   support\n",
      "\n",
      "           0       0.98      0.96      0.97      1701\n",
      "           1       0.81      0.90      0.85       325\n",
      "\n",
      "    accuracy                           0.95      2026\n",
      "   macro avg       0.89      0.93      0.91      2026\n",
      "weighted avg       0.95      0.95      0.95      2026\n",
      "\n"
     ]
    }
   ],
   "source": [
    "print(classification_report(y_test, classe_predita))"
   ]
  },
  {
   "cell_type": "markdown",
   "metadata": {},
   "source": [
    "#### Calibration Curves - O quão calibrado estão as previsões do nosso modelo ?"
   ]
  },
  {
   "cell_type": "code",
   "execution_count": 37,
   "metadata": {},
   "outputs": [
    {
     "data": {
      "text/plain": [
       "Text(0, 0.5, 'True Probability')"
      ]
     },
     "execution_count": 37,
     "metadata": {},
     "output_type": "execute_result"
    },
    {
     "data": {
      "image/png": "[encoded data removed]",
      "text/plain": [
       "<Figure size 1008x864 with 1 Axes>"
      ]
     },
     "metadata": {
      "needs_background": "light"
     },
     "output_type": "display_data"
    }
   ],
   "source": [
    "true_pos, pred_pos = calibration_curve(y_test, y_scores, n_bins = 10)\n",
    "\n",
    "\n",
    "\n",
    "plt.subplots(figsize = (14,12))\n",
    "plt.plot(pred_pos, true_pos, marker = 'o', linewidth = 1, label = 'Random Forest')\n",
    "\n",
    "plt.plot([0,1], [0,1], linestyle = '--', label = \"Ideally Calibrated\")\n",
    "plt.legend()\n",
    "plt.title('Calibration Curve')\n",
    "plt.xlabel('Predicted Probability')\n",
    "plt.ylabel('True Probability')"
   ]
  },
  {
   "cell_type": "markdown",
   "metadata": {},
   "source": [
    "##### Dificilmente um banco irá utilizar um modelo como saída binária 0 e 1. Faz sentido criarmos uma faixa \"Risco de Churn\" com base nos scores preditos pelo modelo. Isso permitirá o banco adotar diferentes planos de ação com base no risco de cada cliente. \n",
    "\n",
    "##### Um cliente com alto risco de churn necessitará de uma abordagem cirúrgia e comercialmente agressiva, diferentemente de um cliente que possui risco baixo de churn. Essa segmentação facilitará tornará mais efetiva a atuação do banco na mitigação de churn"
   ]
  },
  {
   "cell_type": "code",
   "execution_count": 38,
   "metadata": {},
   "outputs": [],
   "source": [
    "df_risco = x_test.copy()\n",
    "\n",
    "df_risco['Probabilidade_Churn'] = probabilidades[:,1]\n",
    "\n",
    "df_risco['Real_Target'] = y_test\n",
    "\n",
    "\n",
    "\n",
    "# Criando score 'Risco de Churn'\n",
    "\n",
    "intervalos = [0.0000, 0.20,0.40,0.60,0.80,0.9999]\n",
    "\n",
    "rotulos = ['Zero', 'Baixo', 'Médio', 'Alto', 'Altíssimo']\n",
    "\n",
    "df_risco['Risco_Churn'] = pd.cut(df_risco['Probabilidade_Churn'], bins=intervalos, labels=rotulos, include_lowest=True)\n"
   ]
  },
  {
   "cell_type": "markdown",
   "metadata": {},
   "source": [
    "##### Vamos cruzar o score criado com as probabilidades previstas pelo modelo, com o Target real dos nossos dados de teste. \n",
    "\n",
    "##### Quanto que o nosso modelo está acertando ? Podemos verificar que há erros em todos os cenários(scores), porém a segmentação dos clientes nessas faixas(score) facilita o plano estratégico do Banco. \n"
   ]
  },
  {
   "cell_type": "code",
   "execution_count": 39,
   "metadata": {},
   "outputs": [
    {
     "name": "stdout",
     "output_type": "stream",
     "text": [
      "             No Churn  Churn\n",
      "Risco_Churn                 \n",
      "Zero             1544     12\n",
      "Baixo              88     22\n",
      "Médio              41     42\n",
      "Alto               23     74\n",
      "Altíssimo           5    171\n"
     ]
    }
   ],
   "source": [
    "\n",
    "pivot_df = df_risco.pivot_table(index='Risco_Churn', columns='Real_Target', aggfunc='size', fill_value=0)\n",
    "\n",
    "pivot_df.columns = ['No Churn', 'Churn']\n",
    "\n",
    "print(pivot_df)"
   ]
  },
  {
   "cell_type": "code",
   "execution_count": 42,
   "metadata": {},
   "outputs": [
    {
     "data": {
      "text/html": [
       "<div>\n",
       "<style scoped>\n",
       "    .dataframe tbody tr th:only-of-type {\n",
       "        vertical-align: middle;\n",
       "    }\n",
       "\n",
       "    .dataframe tbody tr th {\n",
       "        vertical-align: top;\n",
       "    }\n",
       "\n",
       "    .dataframe thead th {\n",
       "        text-align: right;\n",
       "    }\n",
       "</style>\n",
       "<table border=\"1\" class=\"dataframe\">\n",
       "  <thead>\n",
       "    <tr style=\"text-align: right;\">\n",
       "      <th></th>\n",
       "      <th>Customer_Age</th>\n",
       "      <th>Gender</th>\n",
       "      <th>Dependent_count</th>\n",
       "      <th>Education_Level</th>\n",
       "      <th>Marital_Status</th>\n",
       "      <th>Income_Category</th>\n",
       "      <th>Card_Category</th>\n",
       "      <th>Months_on_book</th>\n",
       "      <th>Total_Relationship_Count</th>\n",
       "      <th>Months_Inactive_12_mon</th>\n",
       "      <th>...</th>\n",
       "      <th>Total_Revolving_Bal</th>\n",
       "      <th>Avg_Open_To_Buy</th>\n",
       "      <th>Total_Amt_Chng_Q4_Q1</th>\n",
       "      <th>Total_Trans_Amt</th>\n",
       "      <th>Total_Trans_Ct</th>\n",
       "      <th>Total_Ct_Chng_Q4_Q1</th>\n",
       "      <th>Avg_Utilization_Ratio</th>\n",
       "      <th>Probabilidade_Churn</th>\n",
       "      <th>Real_Target</th>\n",
       "      <th>Risco_Churn</th>\n",
       "    </tr>\n",
       "  </thead>\n",
       "  <tbody>\n",
       "    <tr>\n",
       "      <th>1717</th>\n",
       "      <td>63</td>\n",
       "      <td>F</td>\n",
       "      <td>2</td>\n",
       "      <td>Graduate</td>\n",
       "      <td>Married</td>\n",
       "      <td>$40K - $60K</td>\n",
       "      <td>Blue</td>\n",
       "      <td>53</td>\n",
       "      <td>4</td>\n",
       "      <td>2</td>\n",
       "      <td>...</td>\n",
       "      <td>1874</td>\n",
       "      <td>1193.0</td>\n",
       "      <td>0.791</td>\n",
       "      <td>1420</td>\n",
       "      <td>32</td>\n",
       "      <td>0.455</td>\n",
       "      <td>0.611</td>\n",
       "      <td>0.054306</td>\n",
       "      <td>0</td>\n",
       "      <td>Zero</td>\n",
       "    </tr>\n",
       "    <tr>\n",
       "      <th>9493</th>\n",
       "      <td>50</td>\n",
       "      <td>F</td>\n",
       "      <td>4</td>\n",
       "      <td>Graduate</td>\n",
       "      <td>Single</td>\n",
       "      <td>Less than $40K</td>\n",
       "      <td>Blue</td>\n",
       "      <td>37</td>\n",
       "      <td>1</td>\n",
       "      <td>2</td>\n",
       "      <td>...</td>\n",
       "      <td>913</td>\n",
       "      <td>2786.0</td>\n",
       "      <td>0.866</td>\n",
       "      <td>7297</td>\n",
       "      <td>71</td>\n",
       "      <td>0.690</td>\n",
       "      <td>0.247</td>\n",
       "      <td>0.409118</td>\n",
       "      <td>1</td>\n",
       "      <td>Médio</td>\n",
       "    </tr>\n",
       "    <tr>\n",
       "      <th>9752</th>\n",
       "      <td>47</td>\n",
       "      <td>M</td>\n",
       "      <td>3</td>\n",
       "      <td>Graduate</td>\n",
       "      <td>Single</td>\n",
       "      <td>$40K - $60K</td>\n",
       "      <td>Blue</td>\n",
       "      <td>34</td>\n",
       "      <td>4</td>\n",
       "      <td>3</td>\n",
       "      <td>...</td>\n",
       "      <td>232</td>\n",
       "      <td>4181.0</td>\n",
       "      <td>0.799</td>\n",
       "      <td>7869</td>\n",
       "      <td>76</td>\n",
       "      <td>0.767</td>\n",
       "      <td>0.053</td>\n",
       "      <td>0.818011</td>\n",
       "      <td>1</td>\n",
       "      <td>Altíssimo</td>\n",
       "    </tr>\n",
       "    <tr>\n",
       "      <th>3669</th>\n",
       "      <td>50</td>\n",
       "      <td>M</td>\n",
       "      <td>1</td>\n",
       "      <td>Uneducated</td>\n",
       "      <td>Married</td>\n",
       "      <td>$60K - $80K</td>\n",
       "      <td>Blue</td>\n",
       "      <td>40</td>\n",
       "      <td>6</td>\n",
       "      <td>1</td>\n",
       "      <td>...</td>\n",
       "      <td>996</td>\n",
       "      <td>3096.0</td>\n",
       "      <td>0.644</td>\n",
       "      <td>2298</td>\n",
       "      <td>48</td>\n",
       "      <td>0.655</td>\n",
       "      <td>0.243</td>\n",
       "      <td>0.226254</td>\n",
       "      <td>0</td>\n",
       "      <td>Baixo</td>\n",
       "    </tr>\n",
       "    <tr>\n",
       "      <th>1650</th>\n",
       "      <td>62</td>\n",
       "      <td>F</td>\n",
       "      <td>2</td>\n",
       "      <td>Graduate</td>\n",
       "      <td>Married</td>\n",
       "      <td>Less than $40K</td>\n",
       "      <td>Blue</td>\n",
       "      <td>51</td>\n",
       "      <td>6</td>\n",
       "      <td>2</td>\n",
       "      <td>...</td>\n",
       "      <td>1632</td>\n",
       "      <td>1354.0</td>\n",
       "      <td>0.883</td>\n",
       "      <td>2141</td>\n",
       "      <td>55</td>\n",
       "      <td>0.667</td>\n",
       "      <td>0.547</td>\n",
       "      <td>0.111995</td>\n",
       "      <td>0</td>\n",
       "      <td>Zero</td>\n",
       "    </tr>\n",
       "  </tbody>\n",
       "</table>\n",
       "<p>5 rows × 22 columns</p>\n",
       "</div>"
      ],
      "text/plain": [
       "      Customer_Age Gender  Dependent_count Education_Level Marital_Status  \\\n",
       "1717            63      F                2        Graduate        Married   \n",
       "9493            50      F                4        Graduate         Single   \n",
       "9752            47      M                3        Graduate         Single   \n",
       "3669            50      M                1      Uneducated        Married   \n",
       "1650            62      F                2        Graduate        Married   \n",
       "\n",
       "     Income_Category Card_Category  Months_on_book  Total_Relationship_Count  \\\n",
       "1717     $40K - $60K          Blue              53                         4   \n",
       "9493  Less than $40K          Blue              37                         1   \n",
       "9752     $40K - $60K          Blue              34                         4   \n",
       "3669     $60K - $80K          Blue              40                         6   \n",
       "1650  Less than $40K          Blue              51                         6   \n",
       "\n",
       "      Months_Inactive_12_mon  ...  Total_Revolving_Bal  Avg_Open_To_Buy  \\\n",
       "1717                       2  ...                 1874           1193.0   \n",
       "9493                       2  ...                  913           2786.0   \n",
       "9752                       3  ...                  232           4181.0   \n",
       "3669                       1  ...                  996           3096.0   \n",
       "1650                       2  ...                 1632           1354.0   \n",
       "\n",
       "      Total_Amt_Chng_Q4_Q1  Total_Trans_Amt  Total_Trans_Ct  \\\n",
       "1717                 0.791             1420              32   \n",
       "9493                 0.866             7297              71   \n",
       "9752                 0.799             7869              76   \n",
       "3669                 0.644             2298              48   \n",
       "1650                 0.883             2141              55   \n",
       "\n",
       "      Total_Ct_Chng_Q4_Q1  Avg_Utilization_Ratio  Probabilidade_Churn  \\\n",
       "1717                0.455                  0.611             0.054306   \n",
       "9493                0.690                  0.247             0.409118   \n",
       "9752                0.767                  0.053             0.818011   \n",
       "3669                0.655                  0.243             0.226254   \n",
       "1650                0.667                  0.547             0.111995   \n",
       "\n",
       "      Real_Target  Risco_Churn  \n",
       "1717            0         Zero  \n",
       "9493            1        Médio  \n",
       "9752            1    Altíssimo  \n",
       "3669            0        Baixo  \n",
       "1650            0         Zero  \n",
       "\n",
       "[5 rows x 22 columns]"
      ]
     },
     "execution_count": 42,
     "metadata": {},
     "output_type": "execute_result"
    }
   ],
   "source": [
    "df_risco.tail()"
   ]
  },
  {
   "cell_type": "markdown",
   "metadata": {},
   "source": [
    "### Abrindo a caixa preta: como podemos entender esse modelo ?"
   ]
  },
  {
   "cell_type": "markdown",
   "metadata": {},
   "source": [
    "##### Quais são as variáveis mais importantes para o nosso modelo ? "
   ]
  },
  {
   "cell_type": "code",
   "execution_count": 35,
   "metadata": {},
   "outputs": [
    {
     "data": {
      "text/plain": [
       "Text(0, 0.5, '')"
      ]
     },
     "execution_count": 35,
     "metadata": {},
     "output_type": "execute_result"
    },
    {
     "data": {
      "image/png": "[encoded data removed]",
      "text/plain": [
       "<Figure size 1008x720 with 1 Axes>"
      ]
     },
     "metadata": {
      "needs_background": "light"
     },
     "output_type": "display_data"
    }
   ],
   "source": [
    "scores_variaveis = rf_grid.best_estimator_.named_steps['feature_selection'].scores_\n",
    "\n",
    "variaveis_selecionadas = rf_grid.best_estimator_.named_steps['feature_selection'].get_support()\n",
    "\n",
    "#x_train_trans = categorico.transform(x_train)\n",
    "\n",
    "#all_features = x_train.columns\n",
    "\n",
    "variaveis = categorico.get_feature_names_out()\n",
    "\n",
    "\n",
    "\n",
    "df = pd.DataFrame(data = variaveis[variaveis_selecionadas])\n",
    "\n",
    "df['Score'] = scores_variaveis[variaveis_selecionadas].tolist()\n",
    "\n",
    "df = df.rename(columns={0:\"Variables\"})\n",
    "\n",
    "\n",
    "df['Variables'] = df['Variables'].str.replace(r'remainder__','', regex = True)\n",
    "\n",
    "\n",
    "df = df.sort_values(\"Score\", ascending=False)\n",
    "\n",
    "\n",
    "plt.subplots(figsize = (14,10))\n",
    "\n",
    "sns.barplot(data = df, x = \"Score\", y = \"Variables\")\n",
    "\n",
    "plt.title(\"Variáveis mais importantes para o nosso modelo\")\n",
    "plt.xlabel(\"F Score\")\n",
    "plt.ylabel(\"\")"
   ]
  },
  {
   "cell_type": "markdown",
   "metadata": {},
   "source": [
    "#### Como é a relação de dependencia entre nossa variável resposta e as variáveis preditoras do nosso modelo ?"
   ]
  },
  {
   "cell_type": "code",
   "execution_count": 36,
   "metadata": {},
   "outputs": [
    {
     "data": {
      "image/png": "[encoded data removed]",
      "text/plain": [
       "<Figure size 1152x864 with 10 Axes>"
      ]
     },
     "metadata": {
      "needs_background": "light"
     },
     "output_type": "display_data"
    }
   ],
   "source": [
    "# Partial Dependencia Plot\n",
    "\n",
    "from sklearn.inspection import PartialDependenceDisplay\n",
    "\n",
    "common_params = {\n",
    "    \"subsample\": 50,\n",
    "    \"n_jobs\": -1,\n",
    "    \"grid_resolution\": 20,\n",
    "    \"random_state\": 0,\n",
    "}\n",
    "\n",
    "features_info = {\n",
    "    \"features\":[\"Total_Relationship_Count\",\n",
    "                \"Months_Inactive_12_mon\",\n",
    "                \"Contacts_Count_12_mon\",\n",
    "                \"Total_Revolving_Bal\",\n",
    "                \"Avg_Open_To_Buy\",\n",
    "                \"Total_Amt_Chng_Q4_Q1\",\n",
    "                \"Total_Trans_Amt\",\n",
    "                \"Total_Trans_Ct\",\n",
    "                \"Total_Ct_Chng_Q4_Q1\",\n",
    "                \"Avg_Utilization_Ratio\"],\n",
    "    \"kind\":\"average\"\n",
    "}\n",
    "\n",
    "\n",
    "_, ax = plt.subplots(ncols=5, nrows=2, figsize=(16, 12), constrained_layout=True)\n",
    "\n",
    "\n",
    "display = PartialDependenceDisplay.from_estimator(\n",
    "    rf_grid, \n",
    "    x_train,\n",
    "    **features_info,\n",
    "    ax = ax,\n",
    "    **common_params\n",
    "\n",
    "\n",
    ")"
   ]
  },
  {
   "cell_type": "code",
   "execution_count": 61,
   "metadata": {},
   "outputs": [],
   "source": [
    "# Exportando o nosso modelo de classificação\n",
    "\n",
    "model_churn = \"model_churn.pkl\"  \n",
    "\n",
    "with open(model_churn, 'wb') as file:  \n",
    "    pickle.dump(rf_grid, file)"
   ]
  }
 ],
 "metadata": {
  "kernelspec": {
   "display_name": "Python 3.10.4 ('ambiente')",
   "language": "python",
   "name": "python3"
  },
  "language_info": {
   "codemirror_mode": {
    "name": "ipython",
    "version": 3
   },
   "file_extension": ".py",
   "mimetype": "text/x-python",
   "name": "python",
   "nbconvert_exporter": "python",
   "pygments_lexer": "ipython3",
   "version": "3.9.12"
  },
  "orig_nbformat": 4,
  "vscode": {
   "interpreter": {
    "hash": "577bf74f251541212fbebf9a9173f16a0e88d4c91f6a9c3f658b0148c97385a1"
   }
  }
 },
 "nbformat": 4,
 "nbformat_minor": 2
}
